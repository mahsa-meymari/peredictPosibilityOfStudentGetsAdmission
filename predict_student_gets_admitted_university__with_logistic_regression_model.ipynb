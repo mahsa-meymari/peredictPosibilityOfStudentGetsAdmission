{
  "nbformat": 4,
  "nbformat_minor": 0,
  "metadata": {
    "colab": {
      "name": "predict_student_gets_admitted_university _with_logistic_regression_model.ipynb",
      "provenance": [],
      "collapsed_sections": []
    },
    "kernelspec": {
      "name": "python3",
      "display_name": "Python 3"
    }
  },
  "cells": [
    {
      "cell_type": "code",
      "metadata": {
        "id": "dsiHrV9nOEfx",
        "colab_type": "code",
        "colab": {}
      },
      "source": [
        "import matplotlib.pyplot as plt\n",
        "import numpy as np"
      ],
      "execution_count": 0,
      "outputs": []
    },
    {
      "cell_type": "code",
      "metadata": {
        "id": "aHHyRHlDJi8J",
        "colab_type": "code",
        "colab": {}
      },
      "source": [
        "f = open(\"ex2data1.txt\")\n",
        "data = [(line.split(\",\")[0],line.split(\",\")[1],line.split(\",\")[2][:-1]) for line in f]\n",
        "x = [[float(d[0]),float(d[1])] for d in data]\n",
        "y = [int(d[2]) for d in data]\n",
        "m = len(y)\n",
        "f.close()"
      ],
      "execution_count": 0,
      "outputs": []
    },
    {
      "cell_type": "code",
      "metadata": {
        "id": "8BBa3wqTNSYY",
        "colab_type": "code",
        "outputId": "d07223f6-1147-44e5-dba9-0ca465000415",
        "colab": {
          "base_uri": "https://localhost:8080/",
          "height": 279
        }
      },
      "source": [
        "y = np.array(y)\n",
        "x = np.array(x)\n",
        "neg = np.where(y == 0)\n",
        "pos = np.where(y == 1)\n",
        "fig = plt.figure()\n",
        "ax = fig.add_subplot(111)\n",
        "plt.scatter(np.take(x[:,0],neg),np.take(x[:,1],neg) , c=\"r\" ,marker = \"x\" , label = \"failed\")\n",
        "plt.scatter(np.take(x[:,0],pos),np.take(x[:,1],pos) , c=\"b\" ,marker = \"+\" , label = \"admited\")\n",
        "plt.xlabel(\"exam1 score\")\n",
        "plt.ylabel(\"exam2 score\")\n",
        "plt.legend()\n",
        "plt.show()"
      ],
      "execution_count": 14,
      "outputs": [
        {
          "output_type": "display_data",
          "data": {
            "image/png": "[encoded data removed]",
            "text/plain": [
              "<Figure size 432x288 with 1 Axes>"
            ]
          },
          "metadata": {
            "tags": []
          }
        }
      ]
    },
    {
      "cell_type": "code",
      "metadata": {
        "id": "zGcTt9bkSRbZ",
        "colab_type": "code",
        "colab": {}
      },
      "source": [
        "def sigmoid(z):\n",
        "  return 1 / (1 + np.exp(np.multiply(z,-1)))"
      ],
      "execution_count": 0,
      "outputs": []
    },
    {
      "cell_type": "code",
      "metadata": {
        "id": "sOMZWA7jTD6Y",
        "colab_type": "code",
        "colab": {}
      },
      "source": [
        "m,n = x.shape\n",
        "X = np.concatenate((np.ones((m,1)), x ),axis = 1 ) # Add a column of ones to x for bias"
      ],
      "execution_count": 0,
      "outputs": []
    },
    {
      "cell_type": "code",
      "metadata": {
        "id": "ozTizTK7Ilan",
        "colab_type": "code",
        "colab": {}
      },
      "source": [
        "def costFunctionCrossEntropy(theta,X,y):\n",
        "  J = 0\n",
        "  theta = theta.T\n",
        "  grad = np.zeros(theta.shape)\n",
        "  m = len(y);  #number of training examples\n",
        "  H = sigmoid(np.matmul(X,theta)).reshape(m,1)\n",
        "  term1 = np.multiply(y.reshape(100,1), np.log(H))\n",
        "  HEqual1 = np.where(H==1)\n",
        "  H[HEqual1] = 0.9999999999999999 #otherwise costfunction penelize infinite\n",
        "  term2 = np.multiply(1 - y.reshape(100,1) , np.log(1 - H))\n",
        "  J = -1 * np.sum( term1 + term2  ) / m\n",
        "  grad = np.matmul((H - y.reshape(100,1)).T , X) / m\n",
        "  return J,grad"
      ],
      "execution_count": 0,
      "outputs": []
    },
    {
      "cell_type": "code",
      "metadata": {
        "id": "CI9miydaJR94",
        "colab_type": "code",
        "colab": {
          "base_uri": "https://localhost:8080/",
          "height": 70
        },
        "outputId": "c2a04b4c-f63f-4126-80cb-765abc793acd"
      },
      "source": [
        "#  Initialize fitting parameters\n",
        "theta = np.zeros((1,n+1))\n",
        "\n",
        "# Compute and display initial cost and gradient\n",
        "cost, grad =  costFunctionCrossEntropy(theta,X,y)\n",
        "print(cost,grad)\n",
        "#  Compute and display cost and gradient with non-zero theta\n",
        "test_theta = np.array([[-24, 0.2, 0.2]])\n",
        "cost, grad = costFunctionCrossEntropy(test_theta, X, y)\n",
        "print(cost,grad)\n",
        "test2_theta = np.array([[2,2,2]])\n",
        "cost, grad = costFunctionCrossEntropy(test2_theta, X, y)\n",
        "print(cost,grad)"
      ],
      "execution_count": 18,
      "outputs": [
        {
          "output_type": "stream",
          "text": [
            "0.6931471805599453 [[ -0.1        -12.00921659 -11.26284221]]\n",
            "0.21833019382659774 [[0.04290299 2.56623412 2.64679737]]\n",
            "14.694720227870839 [[ 0.4        20.81292044 21.84815684]]\n"
          ],
          "name": "stdout"
        }
      ]
    },
    {
      "cell_type": "code",
      "metadata": {
        "id": "xKPY_XN6160K",
        "colab_type": "code",
        "colab": {
          "base_uri": "https://localhost:8080/",
          "height": 124
        },
        "outputId": "c9a489ed-d9e4-45f9-8f83-9918defc262c"
      },
      "source": [
        "import numpy as np\n",
        "from scipy.optimize import fmin_bfgs\n",
        "def rosen(theta):\n",
        "  J , _ = costFunctionCrossEntropy(theta,X,y)\n",
        "  return J\n",
        "\n",
        "initial_theta = np.array([[0,0,0]])\n",
        "rosen(initial_theta)\n",
        "final_theta = fmin_bfgs(rosen,initial_theta ,maxiter=400)\n",
        "print(final_theta)"
      ],
      "execution_count": 19,
      "outputs": [
        {
          "output_type": "stream",
          "text": [
            "Optimization terminated successfully.\n",
            "         Current function value: 0.203498\n",
            "         Iterations: 23\n",
            "         Function evaluations: 145\n",
            "         Gradient evaluations: 29\n",
            "[-25.16123289   0.20623085   0.20147081]\n"
          ],
          "name": "stdout"
        }
      ]
    },
    {
      "cell_type": "code",
      "metadata": {
        "id": "HEIeNoxV43Db",
        "colab_type": "code",
        "colab": {}
      },
      "source": [
        "def predict(X):\n",
        "  H = sigmoid(np.matmul(X,theta))\n",
        "  return H"
      ],
      "execution_count": 0,
      "outputs": []
    },
    {
      "cell_type": "code",
      "metadata": {
        "id": "8nq_Ug6c5Q0a",
        "colab_type": "code",
        "colab": {
          "base_uri": "https://localhost:8080/",
          "height": 35
        },
        "outputId": "3044b40c-9333-41ba-bf8e-7c77467e1033"
      },
      "source": [
        "cost ,_ = costFunctionCrossEntropy(final_theta,X,y)\n",
        "print(cost)"
      ],
      "execution_count": 21,
      "outputs": [
        {
          "output_type": "stream",
          "text": [
            "0.20349770159110825\n"
          ],
          "name": "stdout"
        }
      ]
    },
    {
      "cell_type": "code",
      "metadata": {
        "id": "RsAUYEp2Qs7G",
        "colab_type": "code",
        "colab": {
          "base_uri": "https://localhost:8080/",
          "height": 297
        },
        "outputId": "38e3ee6c-ab91-480e-9824-3e39b623c38b"
      },
      "source": [
        "neg = np.where(y == 0)\n",
        "pos = np.where(y == 1)\n",
        "fig = plt.figure()\n",
        "ax = fig.add_subplot(111)\n",
        "plt.scatter(np.take(x[:,0],neg),np.take(x[:,1],neg) , c=\"r\" ,marker = \"x\" , label = \"not-admited\")\n",
        "plt.scatter(np.take(x[:,0],pos),np.take(x[:,1],pos) , c=\"b\" ,marker = \"+\" , label = \"admited\")\n",
        "plt.xlabel(\"exam1 score\")\n",
        "plt.ylabel(\"exam2 score\")\n",
        "\n",
        "x1 = int(min(x[:,1])-2)\n",
        "x2 = int(max(x[:,1])+2)\n",
        "y1 = (final_theta[0] + final_theta[1]*x1) /(-1 * final_theta[2])\n",
        "y2 = (final_theta[0] + final_theta[1]*x2) /(-1 * final_theta[2])\n",
        "print(x1,y1)\n",
        "plt.plot([x1,x2], [y1,y2] ,label = \"decision boundary\")\n",
        "plt.legend() \n",
        "plt.show()"
      ],
      "execution_count": 23,
      "outputs": [
        {
          "output_type": "stream",
          "text": [
            "28 96.22619251755562\n"
          ],
          "name": "stdout"
        },
        {
          "output_type": "display_data",
          "data": {
            "image/png": "[encoded data removed]",
            "text/plain": [
              "<Figure size 432x288 with 1 Axes>"
            ]
          },
          "metadata": {
            "tags": []
          }
        }
      ]
    }
  ]
}